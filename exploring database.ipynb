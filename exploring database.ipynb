{
 "metadata": {
  "name": ""
 },
 "nbformat": 3,
 "nbformat_minor": 0,
 "worksheets": [
  {
   "cells": [
    {
     "cell_type": "code",
     "collapsed": false,
     "input": [
      "import json\n",
      "from pymongo import MongoClient\n",
      "import os\n",
      "import time"
     ],
     "language": "python",
     "metadata": {},
     "outputs": [],
     "prompt_number": 1
    },
    {
     "cell_type": "code",
     "collapsed": false,
     "input": [
      "client = MongoClient()\n",
      "db = client.sample_tweets\n",
      "\n",
      "tweets_collection = db.sample_tweets_collection"
     ],
     "language": "python",
     "metadata": {},
     "outputs": [],
     "prompt_number": 4
    },
    {
     "cell_type": "code",
     "collapsed": false,
     "input": [
      "tweets_collection.find_one({'location.displayName' : {\"$exists\" : 1}}, {'location.displayName': 1, '_id' : 1})"
     ],
     "language": "python",
     "metadata": {},
     "outputs": [
      {
       "metadata": {},
       "output_type": "pyout",
       "prompt_number": 5,
       "text": [
        "{u'_id': ObjectId('53daf1b2636d821223d5ff02'),\n",
        " u'location': {u'displayName': u'San Francisco, CA'}}"
       ]
      }
     ],
     "prompt_number": 5
    },
    {
     "cell_type": "code",
     "collapsed": false,
     "input": [
      "tweets_collection.find().count()"
     ],
     "language": "python",
     "metadata": {},
     "outputs": [
      {
       "metadata": {},
       "output_type": "pyout",
       "prompt_number": 6,
       "text": [
        "117695"
       ]
      }
     ],
     "prompt_number": 6
    },
    {
     "cell_type": "code",
     "collapsed": false,
     "input": [
      "tweets_collection.find({'location.displayName' : {\"$exists\" : 1}}, {'location.displayName': 1, '_id' : 1}).count()"
     ],
     "language": "python",
     "metadata": {},
     "outputs": [
      {
       "metadata": {},
       "output_type": "pyout",
       "prompt_number": 8,
       "text": [
        "116378"
       ]
      }
     ],
     "prompt_number": 8
    },
    {
     "cell_type": "code",
     "collapsed": false,
     "input": [
      "tweets_collection.find({'geo' : {\"$exists\" : 1}}, ).count()"
     ],
     "language": "python",
     "metadata": {},
     "outputs": [
      {
       "metadata": {},
       "output_type": "pyout",
       "prompt_number": 484,
       "text": [
        "107909"
       ]
      }
     ],
     "prompt_number": 484
    },
    {
     "cell_type": "code",
     "collapsed": false,
     "input": [
      "tweets_collection.find_one({'location' : {\"$exists\" : 0}}, )"
     ],
     "language": "python",
     "metadata": {},
     "outputs": [
      {
       "metadata": {},
       "output_type": "pyout",
       "prompt_number": 485,
       "text": [
        "{u'_id': ObjectId('53daf1b2636d821223d5ff05'),\n",
        " u'actor': {u'displayName': u'\\u0644\\u062d\\u0646 \\u0627\\u0644\\u062d\\u0632\\u0646 ',\n",
        "  u'favoritesCount': 5,\n",
        "  u'followersCount': 1142,\n",
        "  u'friendsCount': 2016,\n",
        "  u'id': u'id:twitter.com:1693326374',\n",
        "  u'image': u'https://pbs.twimg.com/profile_images/378800000695493711/11139c3e0b28d05e5f42b535ac925e61_normal.jpeg',\n",
        "  u'languages': [u'ar'],\n",
        "  u'link': u'http://www.twitter.com/hooby0777',\n",
        "  u'links': [{u'href': None, u'rel': u'me'}],\n",
        "  u'listedCount': 0,\n",
        "  u'objectType': u'person',\n",
        "  u'postedTime': u'2013-08-23T09:03:50.000Z',\n",
        "  u'preferredUsername': u'hooby0777',\n",
        "  u'statusesCount': 178,\n",
        "  u'summary': None,\n",
        "  u'twitterTimeZone': None,\n",
        "  u'utcOffset': None,\n",
        "  u'verified': False},\n",
        " u'body': u'http://t.co/CpgqmpRPux',\n",
        " u'favoritesCount': 0,\n",
        " u'generator': {u'displayName': u'Twitter for Android',\n",
        "  u'link': u'http://twitter.com/download/android'},\n",
        " u'geo': {u'coordinates': [17.1223173, 42.7768397], u'type': u'Point'},\n",
        " u'gnip': {u'matching_rules': [{u'tag': None, u'value': u'has:geo has:media'}],\n",
        "  u'urls': [{u'expanded_status': 200,\n",
        "    u'expanded_url': u'http://twitter.com/hooby0777/status/397601723344515072/photo/1',\n",
        "    u'url': u'http://t.co/CpgqmpRPux'}]},\n",
        " u'id': u'tag:search.twitter.com,2005:397601723344515072',\n",
        " u'link': u'http://twitter.com/hooby0777/statuses/397601723344515072',\n",
        " u'object': {u'id': u'object:search.twitter.com,2005:397601723344515072',\n",
        "  u'link': u'http://twitter.com/hooby0777/statuses/397601723344515072',\n",
        "  u'objectType': u'note',\n",
        "  u'postedTime': u'2013-11-05T05:50:12.000Z',\n",
        "  u'summary': u'http://t.co/CpgqmpRPux'},\n",
        " u'objectType': u'activity',\n",
        " u'postedTime': u'2013-11-05T05:50:12.000Z',\n",
        " u'provider': {u'displayName': u'Twitter',\n",
        "  u'link': u'http://www.twitter.com',\n",
        "  u'objectType': u'service'},\n",
        " u'retweetCount': 0,\n",
        " u'twitter_entities': {u'hashtags': [],\n",
        "  u'media': [{u'display_url': u'pic.twitter.com/CpgqmpRPux',\n",
        "    u'expanded_url': u'http://twitter.com/hooby0777/status/397601723344515072/photo/1',\n",
        "    u'id': 397601723185131520L,\n",
        "    u'id_str': u'397601723185131520',\n",
        "    u'indices': [0, 22],\n",
        "    u'media_url': u'http://pbs.twimg.com/media/BYSQqSCIcAA7Lz5.png',\n",
        "    u'media_url_https': u'https://pbs.twimg.com/media/BYSQqSCIcAA7Lz5.png',\n",
        "    u'sizes': {u'large': {u'h': 436, u'resize': u'fit', u'w': 438},\n",
        "     u'medium': {u'h': 436, u'resize': u'fit', u'w': 438},\n",
        "     u'small': {u'h': 338, u'resize': u'fit', u'w': 339},\n",
        "     u'thumb': {u'h': 150, u'resize': u'crop', u'w': 150}},\n",
        "    u'type': u'photo',\n",
        "    u'url': u'http://t.co/CpgqmpRPux'}],\n",
        "  u'symbols': [],\n",
        "  u'urls': [],\n",
        "  u'user_mentions': []},\n",
        " u'twitter_filter_level': u'medium',\n",
        " u'twitter_lang': u'und',\n",
        " u'verb': u'post'}"
       ]
      }
     ],
     "prompt_number": 485
    },
    {
     "cell_type": "code",
     "collapsed": false,
     "input": [
      "tweets_collection.find_one({'location.name' : {\"$exists\" : 1}})['location']                                                        "
     ],
     "language": "python",
     "metadata": {},
     "outputs": [
      {
       "metadata": {},
       "output_type": "pyout",
       "prompt_number": 486,
       "text": [
        "{u'country_code': u'United States',\n",
        " u'displayName': u'San Francisco, CA',\n",
        " u'geo': {u'coordinates': [[[-122.51368188, 37.708131959999996],\n",
        "    [-122.51368188, 37.832453009999995],\n",
        "    [-122.35845384, 37.832453009999995],\n",
        "    [-122.35845384, 37.708131959999996]]],\n",
        "  u'type': u'Polygon'},\n",
        " u'link': u'https://api.twitter.com/1.1/geo/id/5a110d312052166f.json',\n",
        " u'name': u'San Francisco',\n",
        " u'objectType': u'place',\n",
        " u'twitter_country_code': u'US'}"
       ]
      }
     ],
     "prompt_number": 486
    },
    {
     "cell_type": "code",
     "collapsed": false,
     "input": [
      "query = {'location.geo' : {\"$exists\" : 1}}\n",
      "projection = {'location.displayName': 1, \n",
      "              'location.name' : 1, \n",
      "              'location.geo': 1,\n",
      "              '_id' : 1}\n",
      "locs = tweets_collection.find(query, projection)[116376:116377]"
     ],
     "language": "python",
     "metadata": {},
     "outputs": [],
     "prompt_number": 529
    },
    {
     "cell_type": "code",
     "collapsed": false,
     "input": [
      "locations = [l for l in locs]"
     ],
     "language": "python",
     "metadata": {},
     "outputs": [],
     "prompt_number": 530
    },
    {
     "cell_type": "code",
     "collapsed": false,
     "input": [
      "locations"
     ],
     "language": "python",
     "metadata": {},
     "outputs": [
      {
       "metadata": {},
       "output_type": "pyout",
       "prompt_number": 531,
       "text": [
        "[{u'_id': ObjectId('53daf1d4636d821223d7cabf'),\n",
        "  u'location': {u'displayName': u'Petarukan, Pemalang',\n",
        "   u'geo': {u'coordinates': [[[109.435085, -6.956328],\n",
        "      [109.435085, -6.806672],\n",
        "      [109.509829, -6.806672],\n",
        "      [109.509829, -6.956328]]],\n",
        "    u'type': u'Polygon'},\n",
        "   u'name': u'Petarukan'}}]"
       ]
      }
     ],
     "prompt_number": 531
    },
    {
     "cell_type": "code",
     "collapsed": false,
     "input": [
      "meh = [b for b in bleh]"
     ],
     "language": "python",
     "metadata": {},
     "outputs": [
      {
       "ename": "TypeError",
       "evalue": "'instancemethod' object is not iterable",
       "output_type": "pyerr",
       "traceback": [
        "\u001b[0;31m---------------------------------------------------------------------------\u001b[0m\n\u001b[0;31mTypeError\u001b[0m                                 Traceback (most recent call last)",
        "\u001b[0;32m<ipython-input-512-f79ca10dfb84>\u001b[0m in \u001b[0;36m<module>\u001b[0;34m()\u001b[0m\n\u001b[0;32m----> 1\u001b[0;31m \u001b[0mmeh\u001b[0m \u001b[0;34m=\u001b[0m \u001b[0;34m[\u001b[0m\u001b[0mb\u001b[0m \u001b[0;32mfor\u001b[0m \u001b[0mb\u001b[0m \u001b[0;32min\u001b[0m \u001b[0mbleh\u001b[0m\u001b[0;34m]\u001b[0m\u001b[0;34m\u001b[0m\u001b[0m\n\u001b[0m",
        "\u001b[0;31mTypeError\u001b[0m: 'instancemethod' object is not iterable"
       ]
      }
     ],
     "prompt_number": 512
    },
    {
     "cell_type": "code",
     "collapsed": false,
     "input": [
      "len(blah)"
     ],
     "language": "python",
     "metadata": {},
     "outputs": [
      {
       "metadata": {},
       "output_type": "pyout",
       "prompt_number": 504,
       "text": [
        "116378"
       ]
      }
     ],
     "prompt_number": 504
    },
    {
     "cell_type": "code",
     "collapsed": false,
     "input": [
      "geos = [l['location']['geo'] for l in locations]"
     ],
     "language": "python",
     "metadata": {},
     "outputs": [],
     "prompt_number": 168
    },
    {
     "cell_type": "code",
     "collapsed": false,
     "input": [
      "ind = [len(g['coordinates'][0]) for g in geos if type(g).__name__== \"dict\"]"
     ],
     "language": "python",
     "metadata": {},
     "outputs": [],
     "prompt_number": 214
    },
    {
     "cell_type": "code",
     "collapsed": false,
     "input": [
      "from numpy import *\n",
      "mean(geos[2]['coordinates'][0], 0)"
     ],
     "language": "python",
     "metadata": {},
     "outputs": [
      {
       "metadata": {},
       "output_type": "pyout",
       "prompt_number": 225,
       "text": [
        "array([-119.306607 ,   37.2691745])"
       ]
      }
     ],
     "prompt_number": 225
    },
    {
     "cell_type": "code",
     "collapsed": false,
     "input": [
      "locations[2]"
     ],
     "language": "python",
     "metadata": {},
     "outputs": [
      {
       "metadata": {},
       "output_type": "pyout",
       "prompt_number": 226,
       "text": [
        "{u'_id': ObjectId('53daf1b2636d821223d5ff03'),\n",
        " u'location': {u'displayName': u'California, US',\n",
        "  u'geo': {u'coordinates': [[[-124.48200299999999, 32.528832],\n",
        "     [-124.48200299999999, 42.009516999999995],\n",
        "     [-114.131211, 42.009516999999995],\n",
        "     [-114.131211, 32.528832]]],\n",
        "   u'type': u'Polygon'},\n",
        "  u'name': u'California'}}"
       ]
      }
     ],
     "prompt_number": 226
    },
    {
     "cell_type": "code",
     "collapsed": false,
     "input": [
      "geos[2]['coordinates'][0]"
     ],
     "language": "python",
     "metadata": {},
     "outputs": [
      {
       "metadata": {},
       "output_type": "pyout",
       "prompt_number": 228,
       "text": [
        "[[-124.48200299999999, 32.528832],\n",
        " [-124.48200299999999, 42.009516999999995],\n",
        " [-114.131211, 42.009516999999995],\n",
        " [-114.131211, 32.528832]]"
       ]
      }
     ],
     "prompt_number": 228
    },
    {
     "cell_type": "code",
     "collapsed": false,
     "input": [
      "users = tweets_collection.find({'geo' : {\"$exists\" : 1}, 'twitter_entities.media.media_url' : {\"$exists\" : 1}})"
     ],
     "language": "python",
     "metadata": {},
     "outputs": [],
     "prompt_number": 311
    },
    {
     "cell_type": "code",
     "collapsed": false,
     "input": [
      "users = [u for u in users]\n"
     ],
     "language": "python",
     "metadata": {},
     "outputs": [],
     "prompt_number": 312
    },
    {
     "cell_type": "code",
     "collapsed": false,
     "input": [
      "users[0]"
     ],
     "language": "python",
     "metadata": {},
     "outputs": [
      {
       "metadata": {},
       "output_type": "pyout",
       "prompt_number": 341,
       "text": [
        "{u'_id': ObjectId('53daf1b2636d821223d5ff03'),\n",
        " u'actor': {u'displayName': u'\\u2661 Samantha \\u2661',\n",
        "  u'favoritesCount': 5263,\n",
        "  u'followersCount': 258,\n",
        "  u'friendsCount': 226,\n",
        "  u'id': u'id:twitter.com:1175544242',\n",
        "  u'image': u'https://pbs.twimg.com/profile_images/378800000694372182/d2d0badb85eb04ec1c2e12b72038e0d7_normal.jpeg',\n",
        "  u'languages': [u'en'],\n",
        "  u'link': u'http://www.twitter.com/Trillll_Shittt',\n",
        "  u'links': [{u'href': None, u'rel': u'me'}],\n",
        "  u'listedCount': 0,\n",
        "  u'location': {u'displayName': u'murrtown , ca', u'objectType': u'place'},\n",
        "  u'objectType': u'person',\n",
        "  u'postedTime': u'2013-02-13T14:57:08.000Z',\n",
        "  u'preferredUsername': u'Trillll_Shittt',\n",
        "  u'statusesCount': 17635,\n",
        "  u'summary': u'@PHORAONE & @SelfProvoked im there number one fans since day one \\u2661 @KlassikOrigin | @CHRISxGEE | @anthrobeats | @DevourUpp | @Linoskiii | All underground \\u2661',\n",
        "  u'twitterTimeZone': None,\n",
        "  u'utcOffset': None,\n",
        "  u'verified': False},\n",
        " u'body': u'http://t.co/KV084W7bqN',\n",
        " u'favoritesCount': 0,\n",
        " u'generator': {u'displayName': u'Twitter for Android',\n",
        "  u'link': u'http://twitter.com/download/android'},\n",
        " u'geo': {u'coordinates': [33.566769, -117.1022704], u'type': u'Point'},\n",
        " u'gnip': {u'matching_rules': [{u'tag': None, u'value': u'has:geo has:media'}],\n",
        "  u'urls': [{u'expanded_status': 200,\n",
        "    u'expanded_url': u'http://twitter.com/Trillll_Shittt/status/397601677269684224/photo/1',\n",
        "    u'url': u'http://t.co/KV084W7bqN'}]},\n",
        " u'id': u'tag:search.twitter.com,2005:397601677269684224',\n",
        " u'link': u'http://twitter.com/Trillll_Shittt/statuses/397601677269684224',\n",
        " u'location': {u'country_code': u'United States',\n",
        "  u'displayName': u'California, US',\n",
        "  u'geo': {u'coordinates': [[[-124.48200299999999, 32.528832],\n",
        "     [-124.48200299999999, 42.009516999999995],\n",
        "     [-114.131211, 42.009516999999995],\n",
        "     [-114.131211, 32.528832]]],\n",
        "   u'type': u'Polygon'},\n",
        "  u'link': u'https://api.twitter.com/1.1/geo/id/fbd6d2f5a4e4a15e.json',\n",
        "  u'name': u'California',\n",
        "  u'objectType': u'place',\n",
        "  u'twitter_country_code': u'US'},\n",
        " u'object': {u'id': u'object:search.twitter.com,2005:397601677269684224',\n",
        "  u'link': u'http://twitter.com/Trillll_Shittt/statuses/397601677269684224',\n",
        "  u'objectType': u'note',\n",
        "  u'postedTime': u'2013-11-05T05:50:01.000Z',\n",
        "  u'summary': u'http://t.co/KV084W7bqN'},\n",
        " u'objectType': u'activity',\n",
        " u'postedTime': u'2013-11-05T05:50:01.000Z',\n",
        " u'provider': {u'displayName': u'Twitter',\n",
        "  u'link': u'http://www.twitter.com',\n",
        "  u'objectType': u'service'},\n",
        " u'retweetCount': 0,\n",
        " u'twitter_entities': {u'hashtags': [],\n",
        "  u'media': [{u'display_url': u'pic.twitter.com/KV084W7bqN',\n",
        "    u'expanded_url': u'http://twitter.com/Trillll_Shittt/status/397601677269684224/photo/1',\n",
        "    u'id': 397601677118689280L,\n",
        "    u'id_str': u'397601677118689280',\n",
        "    u'indices': [0, 22],\n",
        "    u'media_url': u'http://pbs.twimg.com/media/BYSQnmbCUAAPhQW.jpg',\n",
        "    u'media_url_https': u'https://pbs.twimg.com/media/BYSQnmbCUAAPhQW.jpg',\n",
        "    u'sizes': {u'large': {u'h': 720, u'resize': u'fit', u'w': 720},\n",
        "     u'medium': {u'h': 600, u'resize': u'fit', u'w': 600},\n",
        "     u'small': {u'h': 340, u'resize': u'fit', u'w': 340},\n",
        "     u'thumb': {u'h': 150, u'resize': u'crop', u'w': 150}},\n",
        "    u'type': u'photo',\n",
        "    u'url': u'http://t.co/KV084W7bqN'}],\n",
        "  u'symbols': [],\n",
        "  u'urls': [],\n",
        "  u'user_mentions': []},\n",
        " u'twitter_filter_level': u'medium',\n",
        " u'twitter_lang': u'und',\n",
        " u'verb': u'post'}"
       ]
      }
     ],
     "prompt_number": 341
    },
    {
     "cell_type": "code",
     "collapsed": false,
     "input": [
      "users[0]['location']"
     ],
     "language": "python",
     "metadata": {},
     "outputs": [
      {
       "metadata": {},
       "output_type": "pyout",
       "prompt_number": 410,
       "text": [
        "{u'country_code': u'United States',\n",
        " u'displayName': u'California, US',\n",
        " u'geo': {u'coordinates': [[[-124.48200299999999, 32.528832],\n",
        "    [-124.48200299999999, 42.009516999999995],\n",
        "    [-114.131211, 42.009516999999995],\n",
        "    [-114.131211, 32.528832]]],\n",
        "  u'type': u'Polygon'},\n",
        " u'link': u'https://api.twitter.com/1.1/geo/id/fbd6d2f5a4e4a15e.json',\n",
        " u'name': u'California',\n",
        " u'objectType': u'place',\n",
        " u'twitter_country_code': u'US'}"
       ]
      }
     ],
     "prompt_number": 410
    },
    {
     "cell_type": "code",
     "collapsed": false,
     "input": [
      "ind = 20\n",
      "print(users[ind]['actor']['favoritesCount'])\n",
      "print(users[ind]['actor']['followersCount'])\n",
      "print(users[ind]['actor']['friendsCount'])\n",
      "print(users[ind]['actor']['statusesCount'])\n",
      "print(users[ind]['actor']['link'])\n",
      "print(users[ind]['twitter_entities']['media'][0]['display_url'])\n",
      "print(users[ind]['twitter_entities']['media'][0]['media_url'])\n",
      "print(users[ind]['geo']['coordinates'])\n",
      "print(users[ind]['postedTime'])\n",
      "print(users[ind]['twitter_entities']['media'][0]['sizes']['large'])"
     ],
     "language": "python",
     "metadata": {},
     "outputs": [
      {
       "output_type": "stream",
       "stream": "stdout",
       "text": [
        "1827\n",
        "184\n",
        "167\n",
        "3402\n",
        "http://www.twitter.com/abababagail\n",
        "pic.twitter.com/m5uaoqRv75\n",
        "http://pbs.twimg.com/media/BYSQqvsCMAA-0S3.jpg\n",
        "[44.04027196, -122.96052971]\n",
        "2013-11-05T05:50:14.000Z\n",
        "{u'h': 1024, u'w': 576, u'resize': u'fit'}\n"
       ]
      }
     ],
     "prompt_number": 368
    },
    {
     "cell_type": "code",
     "collapsed": false,
     "input": [
      "query = {'geo' : {\"$exists\" : 1}, \n",
      "         'twitter_entities.media.media_url' : {\"$exists\" : 1}}\n",
      "projection = {'actor.favoritesCount': 1, \n",
      "              'actor.followersCount' : 1, \n",
      "              'actor.friendsCount': 1,\n",
      "              'actor.statusesCount': 1,\n",
      "              'actor.link': 1,\n",
      "              'twitter_entities.media.display_url': 1,\n",
      "              'twitter_entities.media.media_url': 1,\n",
      "              'geo.coordinates': 1,\n",
      "              'postedTime': 1,\n",
      "              'twitter_entities.media.sizes.large': 1,\n",
      "              'location.country_code': 1,\n",
      "              'location.name': 1,\n",
      "              '_id' : 1}\n",
      "meta_data = tweets_collection.find(query, projection)"
     ],
     "language": "python",
     "metadata": {},
     "outputs": [],
     "prompt_number": 411
    },
    {
     "cell_type": "code",
     "collapsed": false,
     "input": [
      "meta = [m for m in meta_data]"
     ],
     "language": "python",
     "metadata": {},
     "outputs": [],
     "prompt_number": 412
    },
    {
     "cell_type": "code",
     "collapsed": false,
     "input": [
      "len(meta)"
     ],
     "language": "python",
     "metadata": {},
     "outputs": [
      {
       "metadata": {},
       "output_type": "pyout",
       "prompt_number": 413,
       "text": [
        "38473"
       ]
      }
     ],
     "prompt_number": 413
    },
    {
     "cell_type": "code",
     "collapsed": false,
     "input": [
      "ind = 13123\n",
      "print(meta[ind]['twitter_entities']['media'][0]['display_url'])\n",
      "print(meta[ind]['twitter_entities']['media'][0]['media_url'])\n",
      "print(meta[ind]['twitter_entities']['media'][0]['sizes']['large']['h'])\n",
      "print(meta[ind]['twitter_entities']['media'][0]['sizes']['large']['w'])\n",
      "print(meta[ind]['geo']['coordinates'])\n",
      "print(meta[ind]['actor']['favoritesCount'])\n",
      "print(meta[ind]['actor']['followersCount'])\n",
      "print(meta[ind]['actor']['friendsCount'])\n",
      "print(meta[ind]['actor']['statusesCount'])\n",
      "print(meta[ind]['actor']['link'])\n",
      "print(meta[ind]['twitter_entities']['media'][0]['display_url'])\n",
      "print(meta[ind]['twitter_entities']['media'][0]['media_url'])\n",
      "print(meta[ind]['postedTime'])\n",
      "print(meta[ind]['location']['name'])\n",
      "print(meta[ind]['location']['country_code'])"
     ],
     "language": "python",
     "metadata": {},
     "outputs": [
      {
       "output_type": "stream",
       "stream": "stdout",
       "text": [
        "pic.twitter.com/dS47S4LN7u\n",
        "http://pbs.twimg.com/media/BqsZI92CQAAaX9Y.jpg\n",
        "960\n",
        "640\n",
        "[43.26015264, -79.88704816]\n",
        "2993\n",
        "254\n",
        "162\n",
        "12993\n",
        "http://www.twitter.com/raposo93\n",
        "pic.twitter.com/dS47S4LN7u\n",
        "http://pbs.twimg.com/media/BqsZI92CQAAaX9Y.jpg\n",
        "2014-06-22T00:19:56.000Z\n",
        "Hamilton\n",
        "Canada\n"
       ]
      }
     ],
     "prompt_number": 414
    },
    {
     "cell_type": "code",
     "collapsed": false,
     "input": [
      "ind = 12321\n",
      "display_url = meta[ind]['twitter_entities']['media'][0]['display_url']\n",
      "media_url = meta[ind]['twitter_entities']['media'][0]['media_url']\n",
      "size_h = meta[ind]['twitter_entities']['media'][0]['sizes']['large']['h']\n",
      "size_w = meta[ind]['twitter_entities']['media'][0]['sizes']['large']['w']\n",
      "lat = meta[ind]['geo']['coordinates'][0]\n",
      "lon = meta[ind]['geo']['coordinates'][1]\n",
      "favoritesCount = meta[ind]['actor']['favoritesCount']\n",
      "followersCount = meta[ind]['actor']['followersCount']\n",
      "friendsCount = meta[ind]['actor']['friendsCount']\n",
      "statusesCount = meta[ind]['actor']['statusesCount']\n",
      "profile_url = meta[ind]['actor']['link']\n",
      "post_url = meta[ind]['twitter_entities']['media'][0]['display_url']\n",
      "img_url = meta[ind]['twitter_entities']['media'][0]['media_url']\n",
      "postedTime = meta[ind]['postedTime']\n",
      "location = meta[ind]['location']['name']\n",
      "country = meta[ind]['location']['country_code']"
     ],
     "language": "python",
     "metadata": {},
     "outputs": [],
     "prompt_number": 415
    },
    {
     "cell_type": "code",
     "collapsed": false,
     "input": [
      "for ind in range(len(meta)):\n",
      "    try: display_url = meta[ind]['twitter_entities']['media'][0]['display_url']\n",
      "    except: display_url = None\n",
      "    try: media_url = meta[ind]['twitter_entities']['media'][0]['media_url']\n",
      "    except: media_url = None\n",
      "    try: size_h = meta[ind]['twitter_entities']['media'][0]['sizes']['large']['h']\n",
      "    except: size_h = None\n",
      "    try: size_w = meta[ind]['twitter_entities']['media'][0]['sizes']['large']['w']\n",
      "    except: size_w = None\n",
      "    try: lat = meta[ind]['geo']['coordinates'][0]\n",
      "    except: lat = None\n",
      "    try: lon = meta[ind]['geo']['coordinates'][1]\n",
      "    except: lon = None\n",
      "    try: favoritesCount = meta[ind]['actor']['favoritesCount']\n",
      "    except: favoritesCount = None\n",
      "    try: followersCount = meta[ind]['actor']['followersCount']\n",
      "    except: follwoersCount = None\n",
      "    try: friendsCount = meta[ind]['actor']['friendsCount']\n",
      "    except: friendsCount = None\n",
      "    try: statusesCount = meta[ind]['actor']['statusesCount']\n",
      "    except: statusesCount = None\n",
      "    try: profile_url = meta[ind]['actor']['link']\n",
      "    except: profile_url = None\n",
      "    try: post_url = meta[ind]['twitter_entities']['media'][0]['display_url']\n",
      "    except: post_url = None\n",
      "    try: img_url = meta[ind]['twitter_entities']['media'][0]['media_url']\n",
      "    except: img_url = None\n",
      "    try: postedTime = meta[ind]['postedTime']\n",
      "    except: postedTime = None\n",
      "    try: location = meta[ind]['location']['name']\n",
      "    except: location = None\n",
      "    try: country = meta[ind]['location']['country_code']\n",
      "    except: country = None\n",
      "    data_file.append([display_url, media_url, size_h, size_w, lat, lon, favoritesCount, followersCount, friendsCount, statusesCount, profile_url, post_url, img_url, postedTime, location, country])\n",
      "    \n"
     ],
     "language": "python",
     "metadata": {},
     "outputs": [],
     "prompt_number": 460
    },
    {
     "cell_type": "code",
     "collapsed": false,
     "input": [
      "len(data_file)"
     ],
     "language": "python",
     "metadata": {},
     "outputs": [
      {
       "metadata": {},
       "output_type": "pyout",
       "prompt_number": 461,
       "text": [
        "38474"
       ]
      }
     ],
     "prompt_number": 461
    },
    {
     "cell_type": "code",
     "collapsed": false,
     "input": [
      "data_file[2]"
     ],
     "language": "python",
     "metadata": {},
     "outputs": [
      {
       "metadata": {},
       "output_type": "pyout",
       "prompt_number": 462,
       "text": [
        "[u'pic.twitter.com/qbUeTASHrU',\n",
        " u'http://pbs.twimg.com/media/BYSQ1cKCAAIkMoS.jpg',\n",
        " 1024,\n",
        " 768,\n",
        " 35.09963842,\n",
        " 136.87517666,\n",
        " 317,\n",
        " 61,\n",
        " 114,\n",
        " 2618,\n",
        " u'http://www.twitter.com/k30528tomodono',\n",
        " u'pic.twitter.com/qbUeTASHrU',\n",
        " u'http://pbs.twimg.com/media/BYSQ1cKCAAIkMoS.jpg',\n",
        " u'2013-11-05T05:50:58.000Z',\n",
        " u'\\u540d\\u53e4\\u5c4b\\u5e02\\u6e2f\\u533a',\n",
        " u'\\u65e5\\u672c']"
       ]
      }
     ],
     "prompt_number": 462
    },
    {
     "cell_type": "code",
     "collapsed": false,
     "input": [
      "rows = []\n",
      "for item in data_file:\n",
      "    rows.append([s.encode(\"utf-8\") if isinstance(s,unicode) else s for s in item])\n",
      "    "
     ],
     "language": "python",
     "metadata": {},
     "outputs": [],
     "prompt_number": 475
    },
    {
     "cell_type": "code",
     "collapsed": false,
     "input": [
      "rows[1]"
     ],
     "language": "python",
     "metadata": {},
     "outputs": [
      {
       "metadata": {},
       "output_type": "pyout",
       "prompt_number": 476,
       "text": [
        "['pic.twitter.com/KV084W7bqN',\n",
        " 'http://pbs.twimg.com/media/BYSQnmbCUAAPhQW.jpg',\n",
        " 720,\n",
        " 720,\n",
        " 33.566769,\n",
        " -117.1022704,\n",
        " 5263,\n",
        " 258,\n",
        " 226,\n",
        " 17635,\n",
        " 'http://www.twitter.com/Trillll_Shittt',\n",
        " 'pic.twitter.com/KV084W7bqN',\n",
        " 'http://pbs.twimg.com/media/BYSQnmbCUAAPhQW.jpg',\n",
        " '2013-11-05T05:50:01.000Z',\n",
        " 'California',\n",
        " 'United States']"
       ]
      }
     ],
     "prompt_number": 476
    },
    {
     "cell_type": "code",
     "collapsed": false,
     "input": [
      "with open(\"output.csv\", \"wb\") as f:\n",
      "    writer = csv.writer(f)\n",
      "    writer.writerows(rows)"
     ],
     "language": "python",
     "metadata": {},
     "outputs": [],
     "prompt_number": 477
    },
    {
     "cell_type": "code",
     "collapsed": false,
     "input": [
      "len(rows)"
     ],
     "language": "python",
     "metadata": {},
     "outputs": [
      {
       "metadata": {},
       "output_type": "pyout",
       "prompt_number": 478,
       "text": [
        "38474"
       ]
      }
     ],
     "prompt_number": 478
    },
    {
     "cell_type": "code",
     "collapsed": false,
     "input": [],
     "language": "python",
     "metadata": {},
     "outputs": []
    }
   ],
   "metadata": {}
  }
 ]
}